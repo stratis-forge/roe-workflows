{
  "nbformat": 4,
  "nbformat_minor": 0,
  "metadata": {
    "colab": {
      "provenance": [],
      "collapsed_sections": [],
      "include_colab_link": true
    },
    "kernelspec": {
      "name": "python3",
      "display_name": "Python 3"
    },
    "language_info": {
      "name": "python"
    },
    "title": "Demo sample ROE curves",
    "authors": [
      {
        "Name": "Aditi Iyer(iyera@mskcc.org)"
      }
    ]
  },
  "cells": [
    {
          "cell_type": "markdown",
          "metadata": {
            "id": "view-in-github"
          },
          "source": [
            "<a href=\"https://colab.research.google.com/github/stratis-forge/roe-workflows/blob/main/demo_ROE_normal_tissue_and_tumor_response_curves.ipynb\" target=\"_parent\"><img src=\"https://colab.research.google.com/assets/colab-badge.svg\" alt=\"Open In Colab\"/></a>"
          ]
    },
    {
      "cell_type": "markdown",
      "source": [
        "##Introduction\n",
        "In this notebook we demonstrate the Radiotherapy Outcomes Explorer (ROE)'s funcitonality to display tumor and normal tissue responses to changes in prescription dose.  \n",
        "\n",
        "ROE is designed as a plugin to CERR and is available for download as a CERR module at https://github.com/cerr/CERR.git. This example demonstrates the potential for patient-specific prescription optimization by scaling fraction size.\n",
        "\n",
        "##Requirements\n",
        "* GNU Octave\n",
        "* ROE (distributed with [CERR](https://www.github.com/cerr/CERR.git))\n",
        "* Matplotlib for visualization\n",
        "\n",
        "Note: Installing these tools may incur a one-time extra runtime overhead.\n",
        "\n",
        "##I/O\n",
        "Below, we use  (1) structures and dose plans in CERR's native planC format (imported from DICOM) and  (2) sample dosimetric models and fractionation schemes distributed with ROE, in JSON format.\n",
        "\n",
        "##Results\n",
        "This notebook comes with a static visualization of sample dose-response plots.\n",
        "\n",
        "---"
      ],
      "metadata": {
        "id": "K8IXEFhggDgg"
      }
    },
    {
      "cell_type": "markdown",
      "source": [
        "## Install dependencies\n",
        "Uncomment (`Ctrl+/`) the following sections to install (1) Octave with required packages (2) Oct2py and (3) CERR."
      ],
      "metadata": {
        "id": "1dK3DdCpX4nD"
      }
    },
    {
      "cell_type": "markdown",
      "source": [
        "### Download latest Octave compile"
      ],
      "metadata": {
        "id": "CfLdR6wxX_KH"
      }
    },
    {
      "cell_type": "code",
      "source": [
        "%%capture\n",
        "# ! apt-get update\n",
        "# ! apt-get install libgraphicsmagick++1-dev libsuitesparse-dev libqrupdate1 \\\n",
        "# libfftw3-3 gnuplot zsh openjdk-8-jdk"
      ],
      "metadata": {
        "id": "hK1b56CxX5I3"
      },
      "execution_count": 1,
      "outputs": []
    },
    {
      "cell_type": "code",
      "source": [
        "# Download latest compiled octave package \n",
        "# def get_octave(root_path):\n",
        "#   os.chdir(root_path)\n",
        "#   with urllib.request.urlopen(\"https://api.github.com/repos/cerr/octave-colab/releases/latest\") as url:\n",
        "#       data = json.loads(url.read().decode())\n",
        "#   fname = data['assets'][0]['name']\n",
        "#   requrl = data['assets'][0]['browser_download_url']\n",
        "#   urllib.request.urlretrieve(requrl, fname)\n",
        "#   # Unzip, identify octave folder name\n",
        "#   !tar xf {fname}\n",
        "#   top_folder = !tar tf {fname} | head -1\n",
        "#   octave_folder = top_folder[0][:-1]\n",
        "#   octave_path = os.path.join(root_path,octave_folder)\n",
        "#   return octave_path"
      ],
      "metadata": {
        "id": "7su-rHjBX-sJ"
      },
      "execution_count": 2,
      "outputs": []
    },
    {
      "cell_type": "code",
      "source": [
        "# Set path to Octave exectuable\n",
        "# import os, urllib.request, json\n",
        "# octave_path = get_octave('/content')\n",
        "os.environ['OCTAVE_EXECUTABLE'] = octave_path + '/bin/octave-cli'  #Replace with OCTAVE_EXECUTABLE path\n",
        "os.environ['PATH'] = octave_path + '/bin:' + os.environ['PATH']    #Replace with Octave path"
      ],
      "metadata": {
        "id": "EjuYcKifYKEO"
      },
      "execution_count": 3,
      "outputs": []
    },
    {
      "cell_type": "markdown",
      "source": [
        "\n",
        "### Download CERR"
      ],
      "metadata": {
        "id": "j1OIck7smbtv"
      }
    },
    {
      "cell_type": "code",
      "source": [
        "%%capture\n",
        "# !git clone --single-branch --branch octave_dev https://www.github.com/cerr/CERR.git\n",
        "# %cd /content/CERR\n",
        "# !git checkout 5798283647324ed14d94f5478b8fac6f9ee62a27\n",
        "# %cd /content/"
      ],
      "metadata": {
        "id": "Kig6aUrPmd89"
      },
      "execution_count": 4,
      "outputs": []
    },
    {
      "cell_type": "markdown",
      "source": [
        "### Install Octave-Python bridge"
      ],
      "metadata": {
        "id": "hgKCJOZomor7"
      }
    },
    {
      "cell_type": "code",
      "source": [
        "%%capture\n",
        "# ! pip3 install octave_kernel\n",
        "# ! pip3 install oct2py==5.3.0"
      ],
      "metadata": {
        "id": "qVYhqKu3mtoj"
      },
      "execution_count": 5,
      "outputs": []
    },
    {
      "cell_type": "markdown",
      "source": [
        "## ROE demo"
      ],
      "metadata": {
        "id": "BXkPu2GSEMuR"
      }
    },
    {
      "cell_type": "markdown",
      "source": [
        "### Load required octave packages\n"
      ],
      "metadata": {
        "id": "8KKBkJRJmZCw"
      }
    },
    {
      "cell_type": "code",
      "source": [
        "%load_ext oct2py.ipython\n",
        "from oct2py import octave"
      ],
      "metadata": {
        "id": "txamCXh3YivV"
      },
      "execution_count": 6,
      "outputs": []
    },
    {
      "cell_type": "code",
      "source": [
        "%%capture\n",
        "%%octave\n",
        "pkg load statistics\n",
        "pkg load io"
      ],
      "metadata": {
        "id": "CZaF60X_ruK3"
      },
      "execution_count": 7,
      "outputs": []
    },
    {
      "cell_type": "markdown",
      "source": [
        "### Prepare sample dataset"
      ],
      "metadata": {
        "id": "1JFee1mel1yb"
      }
    },
    {
      "cell_type": "markdown",
      "source": [
        "**Load sample dataset**"
      ],
      "metadata": {
        "id": "ugR3KWGeo2iD"
      }
    },
    {
      "cell_type": "code",
      "source": [
        "%%capture\n",
        "%%octave\n",
        "\n",
        "#Add CERR to path\n",
        "cerrPath = '/content/CERR'\n",
        "currDir = pwd;\n",
        "cd(cerrPath)\n",
        "addToPath2(cerrPath)\n",
        "cd(currDir)\n",
        "\n",
        "#Load test image \n",
        "parts = strsplit(getCERRPath, filesep);\n",
        "CERR_dir = strjoin(parts(1:end-2), filesep);\n",
        "sampleData = fullfile(CERR_dir,['Unit_Testing/data_for_cerr_tests/',...\n",
        "                      'CERR_plans/lung_ex1_20may03.mat.bz2']);\n",
        "planC = loadPlanC(sampleData, tempdir);\n",
        "planC = updatePlanFields(planC);\n",
        "planC = quality_assure_planC(sampleData, planC);"
      ],
      "metadata": {
        "id": "Tf0PbuhKoPha"
      },
      "execution_count": 8,
      "outputs": []
    },
    {
      "cell_type": "markdown",
      "source": [
        "**Rename/create required input structures**"
      ],
      "metadata": {
        "id": "kBMKvX4aG4vM"
      }
    },
    {
      "cell_type": "code",
      "source": [
        "%%capture\n",
        "%%octave\n",
        "\n",
        "indexS = planC{end};\n",
        "\n",
        "#Rename GTV structure \n",
        "strC = {planC{indexS.structures}.structureName};\n",
        "GTVstrIdx = getMatchingIndex('GTV1',strC,'EXACT');\n",
        "planC{indexS.structures}(GTVstrIdx).structureName = 'GTV';\n",
        "\n",
        "#Create LUNG_GTV structure\n",
        "lungStrIdx = getMatchingIndex('total_lung',strC,'EXACT');\n",
        "planC = createDifferenceStructure(lungStrIdx,GTVstrIdx,planC);\n",
        "planC{indexS.structures}(end).structureName = 'LUNG_GTV';\n",
        "\n",
        "#Get list of available structures\n",
        "strC = {planC{indexS.structures}.structureName};"
      ],
      "metadata": {
        "id": "9RLPJM8e16Zn"
      },
      "execution_count": 9,
      "outputs": []
    },
    {
      "cell_type": "markdown",
      "source": [
        "### Evaluate TCP/NTCP models "
      ],
      "metadata": {
        "id": "ICs89oXGjAp6"
      }
    },
    {
      "cell_type": "markdown",
      "source": [
        "**Load model parameters**"
      ],
      "metadata": {
        "id": "U6flKL9apQP2"
      }
    },
    {
      "cell_type": "code",
      "source": [
        "%%capture\n",
        "%%octave\n",
        "\n",
        "protocoleDefPath = '/content/CERR/CERR_core/PlanAnalysis/sampleFilesForROE/Protocols/Lung 4Gyx15.json';\n",
        "modelDefPath = '/content/CERR/CERR_core/PlanAnalysis/sampleFilesForROE/Models';\n",
        "\n",
        "#Read JSON description of protocol\n",
        "protocolInfoS = loadjson(protocoleDefPath); #fullfile(),protocolListC{protocolIdx(p)}));\n",
        "modelListC = fieldnames(protocolInfoS.models);\n",
        "#Get list of associated models\n",
        "numModels = numel(modelListC);\n",
        "protocolS.modelFiles = '';\n",
        "for m = 1:numModels\n",
        "        #Get path to JSON description of model\n",
        "        modelFPath = fullfile(modelDefPath,protocolInfoS.models.(modelListC{m}).modelFile);\n",
        "        #Load model parameters from JSON\n",
        "        protocolS.model{m} = loadjson(modelFPath);\n",
        "end\n",
        "protocolS.numFractions = protocolInfoS.numFractions;\n",
        "protocolS.totalDose = protocolInfoS.totalDose;\n",
        "\n",
        "# Add BED model\n",
        "modelFPath = [modelDefPath,filesep,'Lung BED.json'];\n",
        "protocolS.model{numModels+1} = loadjson(modelFPath);\n",
        "numModels = numModels+1;"
      ],
      "metadata": {
        "id": "SudVg5PRoxUG"
      },
      "execution_count": 10,
      "outputs": []
    },
    {
      "cell_type": "markdown",
      "source": [
        "**Scale dose plan to match user-input protocol**"
      ],
      "metadata": {
        "id": "tzKTw0GrtYD-"
      }
    },
    {
      "cell_type": "code",
      "source": [
        "%%capture\n",
        "%%octave\n",
        "\n",
        "#Scale dose plan \n",
        "plnNum = 1;\n",
        "prescribedDose = 80; #Test assuming 2Gy x 40\n",
        "indexS = planC{end};\n",
        "\n",
        "numFrxProtocol = protocolS.numFractions;\n",
        "protDose = protocolS.totalDose;\n",
        "dpfProtocol = protDose/numFrxProtocol;\n",
        "dA = getDoseArray(plnNum,planC);\n",
        "dAscale = protDose/prescribedDose;\n",
        "dAscaled = dA * dAscale;"
      ],
      "metadata": {
        "id": "VIMcAxnUtKwQ"
      },
      "execution_count": 11,
      "outputs": []
    },
    {
      "cell_type": "markdown",
      "source": [
        "**Compute TCP & NTCPs at a range of dose scale factors**"
      ],
      "metadata": {
        "id": "nOp1a_49wJc5"
      }
    },
    {
      "cell_type": "code",
      "source": [
        "%%octave\n",
        "#%%capture\n",
        "\n",
        "TCPcount = 0;\n",
        "NTCPcount = 0;\n",
        "BEDcount = 0;\n",
        "scaledTCPv = [];\n",
        "scaledNTCPv = [];\n",
        "scaledBEDv = [];\n",
        "NTCPmodelListC = {};\n",
        "TCPmodelListC = {};\n",
        "BEDmodelListC = {};\n",
        "\n",
        "#Loop over available models\n",
        "for m = 1:numModels\n",
        "\n",
        "        modelS = protocolS.model{m};\n",
        "\n",
        "        #Get associated structure no.\n",
        "        if ~isstruct(modelS.parameters.structures)\n",
        "            #If model has no structure-specific parameters\n",
        "            inputStruct = {modelS.parameters.structures};\n",
        "        else\n",
        "            inputStruct = fieldnames(modelS.parameters.structures);\n",
        "        end\n",
        "        inputStruct\n",
        "        strC\n",
        "        strNum = getMatchingIndex(inputStruct, strC,'EXACT')\n",
        "\n",
        "        #Read model parameters\n",
        "        paramS = [modelS.parameters];\n",
        "        paramS.numFractions.val = numFrxProtocol;\n",
        "        paramS.frxSize.val = dpfProtocol;\n",
        "        if isfield(modelS,'abRatio')\n",
        "            abRatio = modelS.abRatio;\n",
        "            paramS.abRatio.val = abRatio;\n",
        "        end\n",
        "\n",
        "        #Calc. DVH\n",
        "        binWidth = 0.5;\n",
        "        [dosesV,volsV] = getDVH(strNum,plnNum,planC);\n",
        "        [doseBinsV,volHistV] = doseHist(dosesV,volsV,binWidth);\n",
        "\n",
        "        # Scale dose bins by factors in [0.5,1.5] and compute corresponding TCP/NTCP\n",
        "        xScaleV = linspace(0.5,1.5,99);\n",
        "        scaledCPv = xScaleV * 0;\n",
        "\n",
        "        if strcmp(modelS.type,'TCP')\n",
        "             TCPcount = TCPcount + 1;\n",
        "             TCPmodelListC{TCPcount} = modelS.name;\n",
        "        elseif strcmp(modelS.type,'BED')\n",
        "             BEDcount = BEDcount + 1;\n",
        "             BEDmodelListC{BEDcount} = modelS.name;\n",
        "        else\n",
        "             NTCPcount = NTCPcount + 1;\n",
        "             NTCPmodelListC{NTCPcount} = modelS.name;\n",
        "        end\n",
        "\n",
        "        #Loop over scale factors\n",
        "        for n = 1 : numel(xScaleV)\n",
        "\n",
        "                #Scale fraction size \n",
        "                scale = xScaleV(n);\n",
        "                paramS.frxSize.val = scale*dpfProtocol;\n",
        "\n",
        "                #Scale dose bins\n",
        "                scaledDoseBinsC = {scale * doseBinsV};\n",
        "\n",
        "                #Fractionation correction to match modelled datset\n",
        "                correctedScaledDoseC = frxCorrectROE(modelS,...\n",
        "                    strNum,numFrxProtocol,scaledDoseBinsC);\n",
        "                volHistC = {volHistV};\n",
        "\n",
        "                #Calc. TCP/NTCP\n",
        "                if strcmp(modelS.type,'TCP')\n",
        "                    scaledTCPv(n,TCPcount) = feval(modelS.function,...\n",
        "                        paramS,correctedScaledDoseC,volHistC);\n",
        "                elseif strcmp(modelS.type,'BED')\n",
        "                    scaledBEDv(n,BEDcount) = feval(modelS.function,...\n",
        "                        paramS,correctedScaledDoseC,volHistC);      \n",
        "                else\n",
        "                    scaledNTCPv(n,NTCPcount) = feval(modelS.function,...\n",
        "                        paramS,correctedScaledDoseC,volHistC);\n",
        "                end\n",
        "        end\n",
        "    \n",
        "\n",
        "end"
      ],
      "metadata": {
        "id": "siro7ERFwJvM"
      },
      "execution_count": 12,
      "outputs": []
    },
    {
      "cell_type": "markdown",
      "source": [
        "### Visualization"
      ],
      "metadata": {
        "id": "anzvHuTHzN9V"
      }
    },
    {
      "cell_type": "code",
      "source": [
        "%octave_pull NTCPmodelListC TCPmodelListC BEDmodelListC dpfProtocol numFrxProtocol xScaleV scaledTCPv scaledNTCPv scaledBEDv"
      ],
      "metadata": {
        "id": "BW5D6uB-zOfx"
      },
      "execution_count": 13,
      "outputs": []
    },
    {
      "cell_type": "code",
      "source": [
        "import matplotlib.pyplot as plt\n",
        "import numpy as np\n",
        "from IPython.display import clear_output\n",
        "import ipywidgets as widgets\n",
        "\n",
        "def plotCurves(x,y1,y2,y2model,y2label,y2lim):\n",
        "\n",
        "  colors = iter([plt.cm.tab20(i) for i in range(20)])\n",
        "\n",
        "  # Create figure and axis objects \n",
        "  fig = plt.figure(figsize=(8,8))\n",
        "  ax = plt.axes()\n",
        "  sizeV = np.shape(y1)\n",
        "\n",
        "  # Plot normal tissue response curves\n",
        "  x1labels = NTCPmodelListC[0]\n",
        "  labels = list()\n",
        "  for model in range(sizeV[1]):\n",
        "    scaledPredV = y1[:,model]\n",
        "    scaledPredV = np.reshape(scaledPredV,(sizeV[0],1))\n",
        "    x = np.reshape(x,(sizeV[0],1))\n",
        "    plt.plot(x,scaledPredV,color=next(colors),label=x1labels[model])\n",
        "    labels.append(x1labels[model])\n",
        "\n",
        "  ax.set_xlim(x[0],x[-1])\n",
        "  ax.set_ylim(0,1)\n",
        "\n",
        "  # Plot tumor response curve\n",
        "  ax2=ax.twinx()\n",
        "  ax2.set_xlim(x[0],x[-1])\n",
        "  ax2.set_ylim(y2lim)\n",
        "  scaledPredV = y2[:,0]\n",
        "  ax2.plot(x,scaledPredV,color=next(colors),label=y2model)\n",
        "\n",
        "  # Label axes \n",
        "  ax.set_xlabel(\"Dose scale factor\", fontsize = 16)\n",
        "  ax.set_ylabel(\"NTCP\",color=\"black\",fontsize=16)\n",
        "  ax2.set_ylabel(y2label,fontsize=16)\n",
        "\n",
        "  # List models in legend\n",
        "  h1, l1 = ax.get_legend_handles_labels()\n",
        "  h2, l2 = ax2.get_legend_handles_labels()\n",
        "  ax.legend(h1+h2, l1+l2, loc=2, fontsize=16)\n",
        "  protocol = 'Baseline protocol: '+ str(int(dpfProtocol)) + \\\n",
        "  ' Gy x ' + str(int(numFrxProtocol)) \n",
        "  ax.set_title(protocol, fontsize=20)\n",
        " \n",
        "  plt.show()\n",
        "\n",
        "# Plot TCP, NTCP as a funcction of dose scale factor\n",
        "plotCurves(xScaleV,scaledNTCPv,scaledTCPv,TCPmodelListC[0],'TCP',(0,1))\n",
        "# Plot BED, NTCP as a funcction of dose scale factor\n",
        "plotCurves(xScaleV,scaledNTCPv,scaledBEDv,BEDmodelListC[0],'BED',(0,100))\n"
      ],
      "metadata": {
        "colab": {
          "base_uri": "https://localhost:8080/",
          "height": 1000
        },
        "id": "14HVkOEczd6W",
        "outputId": "53debf51-4c49-49fa-d162-7fdd4927911f"
      },
      "execution_count": 14,
      "outputs": [
        {
          "output_type": "display_data",
          "data": {
            "text/plain": [
              "<Figure size 576x576 with 2 Axes>"
            ],
            "image/png": "[encoded data removed]"
          },
          "metadata": {
            "needs_background": "light"
          }
        },
        {
          "output_type": "display_data",
          "data": {
            "text/plain": [
              "<Figure size 576x576 with 2 Axes>"
            ],
            "image/png": "[encoded data removed]"
          },
          "metadata": {
            "needs_background": "light"
          }
        }
      ]
    }
  ]
}
